{
  "nbformat": 4,
  "nbformat_minor": 0,
  "metadata": {
    "colab": {
      "provenance": []
    },
    "kernelspec": {
      "name": "python3",
      "display_name": "Python 3"
    },
    "language_info": {
      "name": "python"
    }
  },
  "cells": [
    {
      "cell_type": "code",
      "execution_count": null,
      "metadata": {
        "colab": {
          "base_uri": "https://localhost:8080/"
        },
        "id": "KrGfVzHwJWDs",
        "outputId": "6e1e475d-837d-4ac2-858c-34a87876531c"
      },
      "outputs": [
        {
          "output_type": "stream",
          "name": "stdout",
          "text": [
            "/usr/local/lib/python3.10/dist-packages/gdown/cli.py:121: FutureWarning: Option `--id` was deprecated in version 4.3.1 and will be removed in 5.0. You don't need to pass it anymore to use a file ID.\n",
            "  warnings.warn(\n",
            "Downloading...\n",
            "From: https://drive.google.com/uc?id=1NlyCS-fuTsupwHDcYx0ecpnsTAi5Ls6V\n",
            "To: /content/Real_estate.csv\n",
            "100% 22.0k/22.0k [00:00<00:00, 48.5MB/s]\n"
          ]
        }
      ],
      "source": [
        "!gdown --id 1NlyCS-fuTsupwHDcYx0ecpnsTAi5Ls6V"
      ]
    },
    {
      "cell_type": "code",
      "source": [
        "import numpy as np\n",
        "import math as m\n",
        "import matplotlib as plt\n",
        "# Load data\n",
        "data = np.genfromtxt('Real_estate.csv', delimiter=',')\n",
        "data = data[1:] # delete header\n",
        "data = data[:, 1:]\n",
        "print(data.shape)\n",
        "\n",
        "X = data[:, :-1]\n",
        "y = data[:, -1]\n",
        "print(X.size)"
      ],
      "metadata": {
        "colab": {
          "base_uri": "https://localhost:8080/"
        },
        "id": "rQlRDI8aJip_",
        "outputId": "155bb1b9-6922-414e-e7b4-b1114438e892"
      },
      "execution_count": null,
      "outputs": [
        {
          "output_type": "stream",
          "name": "stdout",
          "text": [
            "(414, 7)\n",
            "2484\n"
          ]
        }
      ]
    },
    {
      "cell_type": "code",
      "source": [
        "from sklearn.model_selection import train_test_split\n",
        "# dividing data into train and test set\n",
        "X_train, X_test, y_train, y_test = train_test_split(X, y, test_size=0.3, random_state=42)"
      ],
      "metadata": {
        "id": "ykMN6VGyJsIz"
      },
      "execution_count": null,
      "outputs": []
    },
    {
      "cell_type": "code",
      "source": [
        "data_concat = np.c_[X_train, np.ones((X_train.shape[0],1))]\n"
      ],
      "metadata": {
        "id": "pFXQRDuRKPnY"
      },
      "execution_count": null,
      "outputs": []
    },
    {
      "cell_type": "code",
      "source": [
        "def predict(x, theta):\n",
        "  return np.dot(theta,x)\n",
        "\n",
        "def gradient(y_hat, y, x):\n",
        "  dtheta = 2*x*(y_hat - y)\n",
        "  return dtheta\n",
        "\n",
        "def update_weight(theta, lr, dtheta, n):\n",
        "  dtheta_new = theta - (lr*dtheta)/n\n",
        "  return dtheta_new"
      ],
      "metadata": {
        "id": "wbWApdYiJ5E7"
      },
      "execution_count": null,
      "outputs": []
    },
    {
      "cell_type": "code",
      "source": [
        "theta = np.array([-0.34, -0.34, -0.34, -0.34, -0.34, -0.34, 0.04])\n",
        "lr = 0.00000001\n",
        "epochs = 40\n",
        "list_loss = []\n",
        "m = 2\n",
        "n = X_train.shape[0]\n",
        "for epoch in range(epochs):\n",
        "  sum_loss = 0\n",
        "  dthetas = 0\n",
        "  for i in range(0, n, m):\n",
        "    x_i = data_concat[i]\n",
        "    y_i = y[i]\n",
        "\n",
        "    #predict y_hat\n",
        "    y_hat = predict(x_i, theta)\n",
        "\n",
        "    #calculate loss\n",
        "\n",
        "    loss = (y_hat - y_i)*(y_hat - y_i)\n",
        "    sum_loss += loss\n",
        "\n",
        "    #calculate gradient\n",
        "    dtheta = gradient(y_hat, y_i, x_i)\n",
        "    dthetas += dtheta\n",
        "\n",
        "  #update weights\n",
        "  theta = update_weight(theta, lr, dthetas, n)\n",
        "  list_loss.append(sum_loss/n)\n",
        "\n",
        "\n",
        "  print(\"INFO epoch: {} theta: {}\".format(epoch, theta))\n",
        "  #print(list_loss[epoch])\n",
        "\n"
      ],
      "metadata": {
        "colab": {
          "base_uri": "https://localhost:8080/"
        },
        "id": "IjXsGznvLP3n",
        "outputId": "c2efb823-5942-453e-9dc3-ccf6567a9413"
      },
      "execution_count": null,
      "outputs": [
        {
          "output_type": "stream",
          "name": "stdout",
          "text": [
            "INFO epoch: 0 theta: [-0.31689006 -0.33978268 -0.32255644 -0.33996107 -0.33971341 -0.33860491\n",
            "  0.04001148]\n",
            "INFO epoch: 1 theta: [-0.29509978 -0.33957772 -0.30607945 -0.33992441 -0.33944318 -0.33728948\n",
            "  0.0400223 ]\n",
            "INFO epoch: 2 theta: [-0.27455446 -0.33938443 -0.2905146  -0.33988989 -0.3391884  -0.33604921\n",
            "  0.04003251]\n",
            "INFO epoch: 3 theta: [-0.25518359 -0.33920214 -0.27581058 -0.33985738 -0.33894818 -0.33487984\n",
            "  0.04004213]\n",
            "INFO epoch: 4 theta: [-0.23692066 -0.33903023 -0.26191894 -0.33982677 -0.3387217  -0.33377735\n",
            "  0.0400512 ]\n",
            "INFO epoch: 5 theta: [-0.21970292 -0.33886811 -0.24879399 -0.33979795 -0.33850818 -0.33273796\n",
            "  0.04005976]\n",
            "INFO epoch: 6 theta: [-0.20347116 -0.33871523 -0.2363926  -0.33977083 -0.33830689 -0.33175809\n",
            "  0.04006782]\n",
            "INFO epoch: 7 theta: [-0.18816952 -0.33857107 -0.22467409 -0.3397453  -0.33811713 -0.33083437\n",
            "  0.04007542]\n",
            "INFO epoch: 8 theta: [-0.17374531 -0.33843512 -0.21360007 -0.33972127 -0.33793825 -0.32996362\n",
            "  0.04008258]\n",
            "INFO epoch: 9 theta: [-0.16014881 -0.33830693 -0.20313432 -0.33969866 -0.33776964 -0.32914283\n",
            "  0.04008934]\n",
            "INFO epoch: 10 theta: [-0.14733309 -0.33818606 -0.19324266 -0.33967739 -0.33761071 -0.32836918\n",
            "  0.0400957 ]\n",
            "INFO epoch: 11 theta: [-0.13525391 -0.33807209 -0.18389285 -0.33965738 -0.33746092 -0.32764\n",
            "  0.0401017 ]\n",
            "INFO epoch: 12 theta: [-0.12386952 -0.33796463 -0.17505444 -0.33963856 -0.33731974 -0.32695275\n",
            "  0.04010736]\n",
            "INFO epoch: 13 theta: [-0.11314051 -0.33786331 -0.16669874 -0.33962086 -0.33718669 -0.32630507\n",
            "  0.04011269]\n",
            "INFO epoch: 14 theta: [-0.10302972 -0.33776779 -0.15879866 -0.33960421 -0.33706131 -0.32569471\n",
            "  0.04011771]\n",
            "INFO epoch: 15 theta: [-0.09350209 -0.33767773 -0.15132862 -0.33958857 -0.33694315 -0.32511955\n",
            "  0.04012244]\n",
            "INFO epoch: 16 theta: [-0.08452453 -0.33759282 -0.14426451 -0.33957386 -0.33683182 -0.3245776\n",
            "  0.0401269 ]\n",
            "INFO epoch: 17 theta: [-0.07606583 -0.33751278 -0.13758358 -0.33956004 -0.33672693 -0.32406697\n",
            "  0.04013111]\n",
            "INFO epoch: 18 theta: [-0.06809655 -0.33743733 -0.13126434 -0.33954706 -0.3366281  -0.32358589\n",
            "  0.04013506]\n",
            "INFO epoch: 19 theta: [-0.0605889  -0.33736621 -0.12528654 -0.33953486 -0.336535   -0.32313267\n",
            "  0.04013879]\n",
            "INFO epoch: 20 theta: [-0.05351667 -0.33729916 -0.11963106 -0.33952341 -0.3364473  -0.32270575\n",
            "  0.04014231]\n",
            "INFO epoch: 21 theta: [-0.04685514 -0.33723597 -0.11427984 -0.33951266 -0.33636469 -0.32230361\n",
            "  0.04014561]\n",
            "INFO epoch: 22 theta: [-0.04058098 -0.33717641 -0.10921587 -0.33950256 -0.33628688 -0.32192486\n",
            "  0.04014873]\n",
            "INFO epoch: 23 theta: [-0.03467218 -0.33712027 -0.10442309 -0.33949309 -0.33621361 -0.32156816\n",
            "  0.04015167]\n",
            "INFO epoch: 24 theta: [-0.02910797 -0.33706736 -0.09988633 -0.33948421 -0.33614461 -0.32123227\n",
            "  0.04015443]\n",
            "INFO epoch: 25 theta: [-0.02386876 -0.33701751 -0.0955913  -0.33947588 -0.33607964 -0.32091599\n",
            "  0.04015703]\n",
            "INFO epoch: 26 theta: [-0.01893608 -0.33697052 -0.09152449 -0.33946807 -0.33601847 -0.32061822\n",
            "  0.04015948]\n",
            "INFO epoch: 27 theta: [-0.01429248 -0.33692625 -0.08767317 -0.33946075 -0.33596089 -0.3203379\n",
            "  0.04016179]\n",
            "INFO epoch: 28 theta: [-0.00992152 -0.33688454 -0.08402532 -0.33945389 -0.33590668 -0.32007404\n",
            "  0.04016396]\n",
            "INFO epoch: 29 theta: [-0.00580768 -0.33684523 -0.08056961 -0.33944747 -0.33585567 -0.3198257\n",
            "  0.040166  ]\n",
            "INFO epoch: 30 theta: [-0.00193631 -0.3368082  -0.07729532 -0.33944146 -0.33580766 -0.319592\n",
            "  0.04016793]\n",
            "INFO epoch: 31 theta: [ 0.00170639 -0.33677332 -0.07419236 -0.33943583 -0.33576249 -0.3193721\n",
            "  0.04016974]\n",
            "INFO epoch: 32 theta: [ 0.00513345 -0.33674046 -0.0712512  -0.33943058 -0.33571999 -0.31916523\n",
            "  0.04017144]\n",
            "INFO epoch: 33 theta: [ 0.00835718 -0.33670951 -0.06846284 -0.33942566 -0.33568002 -0.31897062\n",
            "  0.04017304]\n",
            "INFO epoch: 34 theta: [ 0.01138915 -0.33668036 -0.06581881 -0.33942107 -0.33564242 -0.31878759\n",
            "  0.04017455]\n",
            "INFO epoch: 35 theta: [ 0.01424033 -0.3366529  -0.06331109 -0.33941679 -0.33560706 -0.31861548\n",
            "  0.04017596]\n",
            "INFO epoch: 36 theta: [ 0.01692101 -0.33662704 -0.06093212 -0.33941279 -0.33557382 -0.31845365\n",
            "  0.04017729]\n",
            "INFO epoch: 37 theta: [ 0.01944096 -0.3366027  -0.05867478 -0.33940906 -0.33554257 -0.31830154\n",
            "  0.04017855]\n",
            "INFO epoch: 38 theta: [ 0.02180934 -0.33657977 -0.05653232 -0.33940558 -0.33551321 -0.31815857\n",
            "  0.04017972]\n",
            "INFO epoch: 39 theta: [ 0.02403482 -0.33655819 -0.0544984  -0.33940235 -0.33548561 -0.31802422\n",
            "  0.04018083]\n"
          ]
        }
      ]
    },
    {
      "cell_type": "code",
      "source": [],
      "metadata": {
        "id": "kTr6RLeGLYo1"
      },
      "execution_count": null,
      "outputs": []
    },
    {
      "cell_type": "code",
      "source": [
        "np_predict = np.dot(X_test,theta[:6])\n",
        "def my_mean_squared_error(act, pred):\n",
        "   differences_squared = (pred - act) ** 2\n",
        "   mean_diff = differences_squared.mean()\n",
        "\n",
        "   return mean_diff\n",
        "\n",
        "def root_mean_squared_error(act, pred):\n",
        "   differences_squared = (pred - act) ** 2\n",
        "   mean_diff = differences_squared.mean()\n",
        "   rmse_val = np.sqrt(mean_diff)\n",
        "\n",
        "   return rmse_val\n",
        "\n",
        "def my_mean_absolute_error(act, pred):\n",
        "    abs_diff = np.absolute(pred - act)\n",
        "    mean_diff = abs_diff.mean()\n",
        "\n",
        "    return mean_diff\n",
        "\n",
        "\n",
        "print(my_mean_squared_error(np_predict, y_test))\n",
        "print(root_mean_squared_error(np_predict, y_test))\n",
        "print(my_mean_absolute_error(np_predict, y_test))"
      ],
      "metadata": {
        "colab": {
          "base_uri": "https://localhost:8080/"
        },
        "id": "0IzubtHPLnAt",
        "outputId": "68c9c2e3-80db-4ad5-ea1c-7ee983922737"
      },
      "execution_count": null,
      "outputs": [
        {
          "output_type": "stream",
          "name": "stdout",
          "text": [
            "14724.689551773256\n",
            "121.3453318087402\n",
            "104.37724752928767\n"
          ]
        }
      ]
    },
    {
      "cell_type": "markdown",
      "source": [
        "This algorithm is not accurate because lacking of backtracking step to find the appropriate \"jump step\". We can try using gradient descent to find the \"jump step\"."
      ],
      "metadata": {
        "id": "EWGCWwSSERjN"
      }
    },
    {
      "cell_type": "markdown",
      "source": [],
      "metadata": {
        "id": "6IPioemGLPlR"
      }
    }
  ]
}